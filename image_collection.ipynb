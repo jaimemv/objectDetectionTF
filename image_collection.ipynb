{
 "cells": [
  {
   "cell_type": "code",
   "execution_count": 3,
   "id": "d5415719",
   "metadata": {},
   "outputs": [
    {
     "name": "stdout",
     "output_type": "stream",
     "text": [
      "Requirement already satisfied: opencv-python in ./tfod/lib/python3.8/site-packages (4.5.3.56)\r\n",
      "Requirement already satisfied: numpy>=1.17.3 in ./tfod/lib/python3.8/site-packages (from opencv-python) (1.21.2)\r\n"
     ]
    }
   ],
   "source": [
    "!pip install opencv-python"
   ]
  },
  {
   "cell_type": "code",
   "execution_count": 3,
   "id": "764ebc2f",
   "metadata": {},
   "outputs": [],
   "source": [
    "import cv2\n",
    "import uuid # Name images unique\n",
    "import os\n",
    "import time"
   ]
  },
  {
   "cell_type": "markdown",
   "id": "5f0c6def",
   "metadata": {},
   "source": [
    "# Define images to collect"
   ]
  },
  {
   "cell_type": "code",
   "execution_count": 2,
   "id": "1f30283d",
   "metadata": {},
   "outputs": [],
   "source": [
    "labels = ['thumbsup', 'thumbsdown', 'thankyou', 'livelong']\n",
    "number_imgs = 5"
   ]
  },
  {
   "cell_type": "markdown",
   "id": "8b580b6b",
   "metadata": {},
   "source": [
    "# Setup Folders"
   ]
  },
  {
   "cell_type": "code",
   "execution_count": 3,
   "id": "9e8f2dbb",
   "metadata": {},
   "outputs": [],
   "source": [
    "IMAGES_PATH = os.path.join(\"Tensorflow\", \"workspace\", \"images\", \"collectedimages\")"
   ]
  },
  {
   "cell_type": "code",
   "execution_count": 4,
   "id": "7116f36d",
   "metadata": {},
   "outputs": [
    {
     "data": {
      "text/plain": [
       "'Tensorflow/workspace/images/collectedimages'"
      ]
     },
     "execution_count": 4,
     "metadata": {},
     "output_type": "execute_result"
    }
   ],
   "source": [
    "IMAGES_PATH"
   ]
  },
  {
   "cell_type": "code",
   "execution_count": 5,
   "id": "863b15cb",
   "metadata": {},
   "outputs": [
    {
     "data": {
      "text/plain": [
       "'posix'"
      ]
     },
     "execution_count": 5,
     "metadata": {},
     "output_type": "execute_result"
    }
   ],
   "source": [
    "os.name"
   ]
  },
  {
   "cell_type": "code",
   "execution_count": 6,
   "id": "f5716990",
   "metadata": {},
   "outputs": [],
   "source": [
    "if not os.path.exists(IMAGES_PATH):\n",
    "    if os.name == 'posix': # Linux machine\n",
    "        !mkdir -p {IMAGES_PATH}\n",
    "    if os.name == 'nt':\n",
    "        !mkdir {IMAGES_PATH}\n",
    "for label in labels:\n",
    "    path = os.path.join(IMAGES_PATH, label)\n",
    "    if not os.path.exists(path):\n",
    "        !mkdir {path}"
   ]
  },
  {
   "cell_type": "markdown",
   "id": "6f603dd6",
   "metadata": {},
   "source": [
    "# Capture images"
   ]
  },
  {
   "cell_type": "code",
   "execution_count": 7,
   "id": "49503f55",
   "metadata": {},
   "outputs": [
    {
     "name": "stdout",
     "output_type": "stream",
     "text": [
      "Collecting images for thumbsup\n",
      "Collecting image 0\n",
      "Collecting image 1\n",
      "Collecting image 2\n",
      "Collecting image 3\n",
      "Collecting image 4\n",
      "Collecting images for thumbsdown\n",
      "Collecting image 0\n",
      "Collecting image 1\n",
      "Collecting image 2\n",
      "Collecting image 3\n",
      "Collecting image 4\n",
      "Collecting images for thankyou\n",
      "Collecting image 0\n",
      "Collecting image 1\n",
      "Collecting image 2\n",
      "Collecting image 3\n",
      "Collecting image 4\n",
      "Collecting images for livelong\n",
      "Collecting image 0\n",
      "Collecting image 1\n",
      "Collecting image 2\n",
      "Collecting image 3\n",
      "Collecting image 4\n"
     ]
    }
   ],
   "source": [
    "for label in labels:\n",
    "    cap = cv2.VideoCapture(0) # If get error -> put a 2\n",
    "    print(f'Collecting images for {label}')\n",
    "    time.sleep(5)\n",
    "    for imgnum in range(number_imgs):\n",
    "        print(f'Collecting image {imgnum}')\n",
    "        ret, frame = cap.read()\n",
    "        imgname = os.path.join(IMAGES_PATH,label,label+'.'+'{}.jpg'.format(str(uuid.uuid1())))\n",
    "        cv2.imwrite(imgname, frame)\n",
    "        cv2.imshow('frame', frame)\n",
    "        time.sleep(2)\n",
    "        \n",
    "        if cv2.waitKey(1) & 0xFF == ord('q'):\n",
    "            break\n",
    "print('Image collection ended successfully!')\n",
    "cap.release()\n",
    "cv2.destroyAllWindows()"
   ]
  },
  {
   "cell_type": "code",
   "execution_count": 4,
   "id": "c1046fb6",
   "metadata": {},
   "outputs": [],
   "source": [
    "cv2.destroyAllWindows()"
   ]
  },
  {
   "cell_type": "markdown",
   "id": "22ede2af",
   "metadata": {},
   "source": [
    "# Image Labelling"
   ]
  },
  {
   "cell_type": "code",
   "execution_count": 15,
   "id": "24136635",
   "metadata": {},
   "outputs": [
    {
     "name": "stdout",
     "output_type": "stream",
     "text": [
      "Collecting pyqt5\n",
      "  Downloading PyQt5-5.15.5-cp36-abi3-macosx_10_13_x86_64.whl (7.0 MB)\n",
      "     |████████████████████████████████| 7.0 MB 2.7 MB/s            \n",
      "\u001b[?25hCollecting lxml\n",
      "  Downloading lxml-4.6.3-cp38-cp38-macosx_10_9_x86_64.whl (4.6 MB)\n",
      "     |████████████████████████████████| 4.6 MB 14.8 MB/s            \n",
      "\u001b[?25hCollecting PyQt5-Qt5>=5.15.2\n",
      "  Downloading PyQt5_Qt5-5.15.2-py3-none-macosx_10_13_intel.whl (40.5 MB)\n",
      "     |████████████████████████████████| 40.5 MB 506 kB/s             \n",
      "\u001b[?25hCollecting PyQt5-sip<13,>=12.8\n",
      "  Downloading PyQt5_sip-12.9.0-cp38-cp38-macosx_10_9_x86_64.whl (63 kB)\n",
      "     |████████████████████████████████| 63 kB 3.9 MB/s             \n",
      "\u001b[?25hInstalling collected packages: PyQt5-sip, PyQt5-Qt5, pyqt5, lxml\n",
      "Successfully installed PyQt5-Qt5-5.15.2 PyQt5-sip-12.9.0 lxml-4.6.3 pyqt5-5.15.5\n"
     ]
    }
   ],
   "source": [
    "!pip install --upgrade pyqt5 lxml"
   ]
  },
  {
   "cell_type": "code",
   "execution_count": 8,
   "id": "cb8c250a",
   "metadata": {},
   "outputs": [],
   "source": [
    "LABELIMG_PATH = os.path.join('Tensorflow', 'labelimg')"
   ]
  },
  {
   "cell_type": "code",
   "execution_count": 9,
   "id": "390eea68",
   "metadata": {},
   "outputs": [],
   "source": [
    "if not os.path.exists(LABELIMG_PATH):\n",
    "    !mkdir {LABELIMG_PATH}\n",
    "    !git clone https://github.com/tzutalin/labelImg {LABELIMG_PATH}"
   ]
  },
  {
   "cell_type": "code",
   "execution_count": 10,
   "id": "a312c09e",
   "metadata": {},
   "outputs": [
    {
     "name": "stdout",
     "output_type": "stream",
     "text": [
      "make: *** No rule to make target `qt5py3'.  Stop.\r\n"
     ]
    }
   ],
   "source": [
    "if os.name == 'posix':\n",
    "    !make qt5py3\n",
    "if os.name =='nt':\n",
    "    !cd {LABELIMG_PATH} && pyrcc5 -o libs/resources.py resources.qrc"
   ]
  },
  {
   "cell_type": "code",
   "execution_count": 11,
   "id": "4a4f2d85",
   "metadata": {},
   "outputs": [
    {
     "data": {
      "text/plain": [
       "'Tensorflow/labelimg'"
      ]
     },
     "execution_count": 11,
     "metadata": {},
     "output_type": "execute_result"
    }
   ],
   "source": [
    "LABELIMG_PATH"
   ]
  },
  {
   "cell_type": "code",
   "execution_count": 12,
   "id": "7b7b2893",
   "metadata": {},
   "outputs": [
    {
     "name": "stdout",
     "output_type": "stream",
     "text": [
      "Image:/Users/jaime/deep_learning/object_detection_tf/Tensorflow/workspace/images/collectedimages/livelong/livelong.5b3ea58e-35be-11ec-b8d7-acbc32cb08df.jpg -> Annotation:/Users/jaime/deep_learning/object_detection_tf/Tensorflow/workspace/images/collectedimages/livelong/livelong.5b3ea58e-35be-11ec-b8d7-acbc32cb08df.xml\n",
      "Image:/Users/jaime/deep_learning/object_detection_tf/Tensorflow/workspace/images/collectedimages/livelong/livelong.58b453b8-35be-11ec-b8d7-acbc32cb08df.jpg -> Annotation:/Users/jaime/deep_learning/object_detection_tf/Tensorflow/workspace/images/collectedimages/livelong/livelong.58b453b8-35be-11ec-b8d7-acbc32cb08df.xml\n",
      "Image:/Users/jaime/deep_learning/object_detection_tf/Tensorflow/workspace/images/collectedimages/livelong/livelong.59f9a9e4-35be-11ec-b8d7-acbc32cb08df.jpg -> Annotation:/Users/jaime/deep_learning/object_detection_tf/Tensorflow/workspace/images/collectedimages/livelong/livelong.59f9a9e4-35be-11ec-b8d7-acbc32cb08df.xml\n",
      "Image:/Users/jaime/deep_learning/object_detection_tf/Tensorflow/workspace/images/collectedimages/livelong/livelong.5633f0e4-35be-11ec-b8d7-acbc32cb08df.jpg -> Annotation:/Users/jaime/deep_learning/object_detection_tf/Tensorflow/workspace/images/collectedimages/livelong/livelong.5633f0e4-35be-11ec-b8d7-acbc32cb08df.xml\n",
      "Image:/Users/jaime/deep_learning/object_detection_tf/Tensorflow/workspace/images/collectedimages/livelong/livelong.57774654-35be-11ec-b8d7-acbc32cb08df.jpg -> Annotation:/Users/jaime/deep_learning/object_detection_tf/Tensorflow/workspace/images/collectedimages/livelong/livelong.57774654-35be-11ec-b8d7-acbc32cb08df.xml\n",
      "Image:/Users/jaime/deep_learning/object_detection_tf/Tensorflow/workspace/images/collectedimages/thankyou/thankyou.4ce5c544-35be-11ec-b8d7-acbc32cb08df.jpg -> Annotation:/Users/jaime/deep_learning/object_detection_tf/Tensorflow/workspace/images/collectedimages/thankyou/thankyou.4ce5c544-35be-11ec-b8d7-acbc32cb08df.xml\n",
      "Image:/Users/jaime/deep_learning/object_detection_tf/Tensorflow/workspace/images/collectedimages/thankyou/thankyou.4e2861e6-35be-11ec-b8d7-acbc32cb08df.jpg -> Annotation:/Users/jaime/deep_learning/object_detection_tf/Tensorflow/workspace/images/collectedimages/thankyou/thankyou.4e2861e6-35be-11ec-b8d7-acbc32cb08df.xml\n",
      "Image:/Users/jaime/deep_learning/object_detection_tf/Tensorflow/workspace/images/collectedimages/thankyou/thankyou.4f6b947e-35be-11ec-b8d7-acbc32cb08df.jpg -> Annotation:/Users/jaime/deep_learning/object_detection_tf/Tensorflow/workspace/images/collectedimages/thankyou/thankyou.4f6b947e-35be-11ec-b8d7-acbc32cb08df.xml\n",
      "Image:/Users/jaime/deep_learning/object_detection_tf/Tensorflow/workspace/images/collectedimages/thankyou/thankyou.50adf4ee-35be-11ec-b8d7-acbc32cb08df.jpg -> Annotation:/Users/jaime/deep_learning/object_detection_tf/Tensorflow/workspace/images/collectedimages/thankyou/thankyou.50adf4ee-35be-11ec-b8d7-acbc32cb08df.xml\n",
      "Image:/Users/jaime/deep_learning/object_detection_tf/Tensorflow/workspace/images/collectedimages/thankyou/thankyou.51eff7bc-35be-11ec-b8d7-acbc32cb08df.jpg -> Annotation:/Users/jaime/deep_learning/object_detection_tf/Tensorflow/workspace/images/collectedimages/thankyou/thankyou.51eff7bc-35be-11ec-b8d7-acbc32cb08df.xml\n",
      "Image:/Users/jaime/deep_learning/object_detection_tf/Tensorflow/workspace/images/collectedimages/thumbsdown/thumbsdown.44d93f20-35be-11ec-b8d7-acbc32cb08df.jpg -> Annotation:/Users/jaime/deep_learning/object_detection_tf/Tensorflow/workspace/images/collectedimages/thumbsdown/thumbsdown.44d93f20-35be-11ec-b8d7-acbc32cb08df.xml\n",
      "Image:/Users/jaime/deep_learning/object_detection_tf/Tensorflow/workspace/images/collectedimages/thumbsdown/thumbsdown.48a0af94-35be-11ec-b8d7-acbc32cb08df.jpg -> Annotation:/Users/jaime/deep_learning/object_detection_tf/Tensorflow/workspace/images/collectedimages/thumbsdown/thumbsdown.48a0af94-35be-11ec-b8d7-acbc32cb08df.xml\n",
      "CoreSVG has logged an error. Set environment variabe \"CORESVG_VERBOSE\" to learn more.\n",
      "Image:/Users/jaime/deep_learning/object_detection_tf/Tensorflow/workspace/images/collectedimages/thumbsdown/thumbsdown.461d9386-35be-11ec-b8d7-acbc32cb08df.jpg -> Annotation:/Users/jaime/deep_learning/object_detection_tf/Tensorflow/workspace/images/collectedimages/thumbsdown/thumbsdown.461d9386-35be-11ec-b8d7-acbc32cb08df.xml\n",
      "Image:/Users/jaime/deep_learning/object_detection_tf/Tensorflow/workspace/images/collectedimages/thumbsdown/thumbsdown.4396a3aa-35be-11ec-b8d7-acbc32cb08df.jpg -> Annotation:/Users/jaime/deep_learning/object_detection_tf/Tensorflow/workspace/images/collectedimages/thumbsdown/thumbsdown.4396a3aa-35be-11ec-b8d7-acbc32cb08df.xml\n",
      "Image:/Users/jaime/deep_learning/object_detection_tf/Tensorflow/workspace/images/collectedimages/thumbsdown/thumbsdown.476003dc-35be-11ec-b8d7-acbc32cb08df.jpg -> Annotation:/Users/jaime/deep_learning/object_detection_tf/Tensorflow/workspace/images/collectedimages/thumbsdown/thumbsdown.476003dc-35be-11ec-b8d7-acbc32cb08df.xml\n",
      "Image:/Users/jaime/deep_learning/object_detection_tf/Tensorflow/workspace/images/collectedimages/thumbsup/thumbsup.3a294a5c-35be-11ec-b8d7-acbc32cb08df.jpg -> Annotation:/Users/jaime/deep_learning/object_detection_tf/Tensorflow/workspace/images/collectedimages/thumbsup/thumbsup.3a294a5c-35be-11ec-b8d7-acbc32cb08df.xml\n",
      "Image:/Users/jaime/deep_learning/object_detection_tf/Tensorflow/workspace/images/collectedimages/thumbsup/thumbsup.3b89638c-35be-11ec-b8d7-acbc32cb08df.jpg -> Annotation:/Users/jaime/deep_learning/object_detection_tf/Tensorflow/workspace/images/collectedimages/thumbsup/thumbsup.3b89638c-35be-11ec-b8d7-acbc32cb08df.xml\n",
      "Image:/Users/jaime/deep_learning/object_detection_tf/Tensorflow/workspace/images/collectedimages/thumbsup/thumbsup.3ccd701c-35be-11ec-b8d7-acbc32cb08df.jpg -> Annotation:/Users/jaime/deep_learning/object_detection_tf/Tensorflow/workspace/images/collectedimages/thumbsup/thumbsup.3ccd701c-35be-11ec-b8d7-acbc32cb08df.xml\n",
      "Image:/Users/jaime/deep_learning/object_detection_tf/Tensorflow/workspace/images/collectedimages/thumbsup/thumbsup.3e108eaa-35be-11ec-b8d7-acbc32cb08df.jpg -> Annotation:/Users/jaime/deep_learning/object_detection_tf/Tensorflow/workspace/images/collectedimages/thumbsup/thumbsup.3e108eaa-35be-11ec-b8d7-acbc32cb08df.xml\n",
      "Image:/Users/jaime/deep_learning/object_detection_tf/Tensorflow/workspace/images/collectedimages/thumbsup/thumbsup.3f52af00-35be-11ec-b8d7-acbc32cb08df.jpg -> Annotation:/Users/jaime/deep_learning/object_detection_tf/Tensorflow/workspace/images/collectedimages/thumbsup/thumbsup.3f52af00-35be-11ec-b8d7-acbc32cb08df.xml\n"
     ]
    }
   ],
   "source": [
    "!cd {LABELIMG_PATH} && python labelImg.py"
   ]
  },
  {
   "cell_type": "code",
   "execution_count": 13,
   "id": "2c8ac857",
   "metadata": {},
   "outputs": [
    {
     "name": "stdout",
     "output_type": "stream",
     "text": [
      "/Users/jaime/deep_learning/object_detection_tf/tfod/bin/pyrcc5: File does not exist 'resources.qrc'\r\n"
     ]
    }
   ],
   "source": [
    "!pyrcc5 -o libs/resources.py resources.qrc"
   ]
  },
  {
   "cell_type": "markdown",
   "id": "6e5649de",
   "metadata": {},
   "source": [
    "# Split train-test"
   ]
  },
  {
   "cell_type": "code",
   "execution_count": 35,
   "id": "a7dc4e25",
   "metadata": {},
   "outputs": [
    {
     "name": "stdout",
     "output_type": "stream",
     "text": [
      "LICENSE\r\n",
      "README.md\r\n",
      "Tensorflow\r\n",
      "Training and Detection.ipynb\r\n",
      "image_collection.ipynb\r\n",
      "requirements.txt\r\n",
      "tfod\r\n"
     ]
    }
   ],
   "source": [
    "!ls | sort -n"
   ]
  },
  {
   "cell_type": "code",
   "execution_count": null,
   "id": "40c49cb1",
   "metadata": {},
   "outputs": [],
   "source": [
    "|xargs cp -t \"$destdir\""
   ]
  },
  {
   "cell_type": "code",
   "execution_count": null,
   "id": "d6e9246c",
   "metadata": {},
   "outputs": [],
   "source": [
    "cp `ls -SF | grep -v / | head -5` Directory"
   ]
  },
  {
   "cell_type": "code",
   "execution_count": 27,
   "id": "a9a38f0e",
   "metadata": {},
   "outputs": [
    {
     "name": "stdout",
     "output_type": "stream",
     "text": [
      "smile.2.jpg\r\n"
     ]
    }
   ],
   "source": [
    "!ls Tensorflow/workspace/images/collectedimages/smile/ |head -1"
   ]
  },
  {
   "cell_type": "code",
   "execution_count": 30,
   "id": "76449bc6",
   "metadata": {},
   "outputs": [
    {
     "name": "stdout",
     "output_type": "stream",
     "text": [
      "usage: cp [-R [-H | -L | -P]] [-fi | -n] [-apvXc] source_file target_file\r\n",
      "       cp [-R [-H | -L | -P]] [-fi | -n] [-apvXc] source_file ... target_directory\r\n",
      "head: {Tensorflow/}: No such file or directory\r\n"
     ]
    }
   ],
   "source": [
    "!cd cp Tensorflow/workspace/images/collectedimages/smile/ |head -1 Tensorflow/"
   ]
  },
  {
   "cell_type": "code",
   "execution_count": 31,
   "id": "8ff895c6",
   "metadata": {},
   "outputs": [
    {
     "name": "stdout",
     "output_type": "stream",
     "text": [
      "cp: smile.2.jpg: No such file or directory\r\n"
     ]
    }
   ],
   "source": [
    "!cp `ls Tensorflow/workspace/images/collectedimages/smile/ |head -1` Tensorflow/"
   ]
  },
  {
   "cell_type": "code",
   "execution_count": 56,
   "id": "245b954e",
   "metadata": {},
   "outputs": [
    {
     "name": "stdout",
     "output_type": "stream",
     "text": [
      "/Users/jaime/deep_learning/object_detection_tf\n"
     ]
    }
   ],
   "source": [
    "%cd /Users/jaime/deep_learning/object_detection_tf/"
   ]
  },
  {
   "cell_type": "code",
   "execution_count": 71,
   "id": "c20dd6f1",
   "metadata": {},
   "outputs": [
    {
     "data": {
      "text/plain": [
       "'Tensorflow/workspace/images/collectedimages/Tensorflow/workspace/images/collectedimages/'"
      ]
     },
     "execution_count": 71,
     "metadata": {},
     "output_type": "execute_result"
    }
   ],
   "source": [
    "os.path.join(LABEL_DIR, label)"
   ]
  },
  {
   "cell_type": "code",
   "execution_count": 73,
   "id": "4c4c46db",
   "metadata": {},
   "outputs": [
    {
     "name": "stdout",
     "output_type": "stream",
     "text": [
      "/Users/jaime/deep_learning/object_detection_tf\n",
      "/Users/jaime/deep_learning/object_detection_tf/Tensorflow/workspace/images/collectedimages\n",
      "usage: cp [-R [-H | -L | -P]] [-fi | -n] [-apvXc] source_file target_file\r\n",
      "       cp [-R [-H | -L | -P]] [-fi | -n] [-apvXc] source_file ... target_directory\r\n"
     ]
    }
   ],
   "source": [
    "LABEL_DIR = 'Tensorflow/workspace/images/collectedimages/'\n",
    "PARENT_DIR = '/Users/jaime/deep_learning/object_detection_tf/'\n",
    "TRAIN_PATH = os.path.join('Tensorflow', 'workspace', 'images', 'train')\n",
    "TEST_PATH = os.path.join('Tensorflow', 'workspace', 'images', 'test')\n",
    "\n",
    "for label in {LABEL_DIR}:\n",
    "    %cd {PARENT_DIR}\n",
    "    %cd {os.path.join(LABEL_DIR, label)}\n",
    "    !cp `ls | sort -n | head -2` {TEST_PATH}"
   ]
  },
  {
   "cell_type": "code",
   "execution_count": 44,
   "id": "4ec5e71e",
   "metadata": {},
   "outputs": [
    {
     "name": "stdout",
     "output_type": "stream",
     "text": [
      "cp: directory Tensorflow does not exist\r\n"
     ]
    }
   ],
   "source": [
    "!cd Tensorflow/workspace/images/collectedimages/smile/ && cp `ls | sort -n | head -2` Tensorflow/"
   ]
  },
  {
   "cell_type": "code",
   "execution_count": null,
   "id": "30e3995a",
   "metadata": {},
   "outputs": [],
   "source": []
  },
  {
   "cell_type": "code",
   "execution_count": 16,
   "id": "2397549b",
   "metadata": {},
   "outputs": [
    {
     "name": "stdout",
     "output_type": "stream",
     "text": [
      "\u001b[34msmile\u001b[m\u001b[m     \u001b[34msurprise\u001b[m\u001b[m  \u001b[34mtongueout\u001b[m\u001b[m \u001b[34mwink\u001b[m\u001b[m\r\n"
     ]
    }
   ],
   "source": [
    "!ls Tensorflow/workspace/images/collectedimages/"
   ]
  },
  {
   "cell_type": "code",
   "execution_count": 10,
   "id": "45394147",
   "metadata": {},
   "outputs": [
    {
     "data": {
      "text/plain": [
       "'Tensorflow/workspace/images/train'"
      ]
     },
     "execution_count": 10,
     "metadata": {},
     "output_type": "execute_result"
    }
   ],
   "source": [
    "TRAIN_PATH = os.path.join('Tensorflow', 'workspace', 'images', 'train')\n",
    "TEST_PATH = os.path.join('Tensorflow', 'workspace', 'images', 'test')\n",
    "TRAIN_PATH = os.path.join('Tensorflow', 'workspace', 'images', 'train')\n",
    "\n",
    "\n",
    "if not os.path.exists {TRAIN_PATH}:\n",
    "    !mkdir {TRAIN_PATH}"
   ]
  },
  {
   "cell_type": "markdown",
   "id": "aae185a4",
   "metadata": {},
   "source": [
    "# Export the images to train on Colab"
   ]
  },
  {
   "cell_type": "code",
   "execution_count": 14,
   "id": "88adb99c",
   "metadata": {},
   "outputs": [
    {
     "data": {
      "text/plain": [
       "'Tensorflow/workspace/images/train'"
      ]
     },
     "execution_count": 14,
     "metadata": {},
     "output_type": "execute_result"
    }
   ],
   "source": [
    "os.path.join('Tensorflow', 'workspace', 'images', 'train')"
   ]
  },
  {
   "cell_type": "code",
   "execution_count": 15,
   "id": "11ecb3a0",
   "metadata": {},
   "outputs": [],
   "source": [
    "TRAIN_PATH = os.path.join('Tensorflow', 'workspace', 'images', 'train')\n",
    "TEST_PATH = os.path.join('Tensorflow', 'workspace', 'images', 'test')\n",
    "ARCHIVE_PATH = os.path.join('Tensorflow', 'workspace', 'images', 'archive.tar.gz')"
   ]
  },
  {
   "cell_type": "code",
   "execution_count": 16,
   "id": "34d559fd",
   "metadata": {},
   "outputs": [],
   "source": [
    "!tar -czf {ARCHIVE_PATH} {TRAIN_PATH} {TEST_PATH}"
   ]
  },
  {
   "cell_type": "code",
   "execution_count": null,
   "id": "8cb15d52",
   "metadata": {},
   "outputs": [],
   "source": []
  }
 ],
 "metadata": {
  "kernelspec": {
   "display_name": "tfod",
   "language": "python",
   "name": "tfod"
  },
  "language_info": {
   "codemirror_mode": {
    "name": "ipython",
    "version": 3
   },
   "file_extension": ".py",
   "mimetype": "text/x-python",
   "name": "python",
   "nbconvert_exporter": "python",
   "pygments_lexer": "ipython3",
   "version": "3.8.9"
  }
 },
 "nbformat": 4,
 "nbformat_minor": 5
}
